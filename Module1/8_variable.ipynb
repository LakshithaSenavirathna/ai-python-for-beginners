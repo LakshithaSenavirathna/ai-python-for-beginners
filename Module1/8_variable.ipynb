{
  "nbformat": 4,
  "nbformat_minor": 0,
  "metadata": {
    "colab": {
      "provenance": []
    },
    "kernelspec": {
      "name": "python3",
      "display_name": "Python 3"
    },
    "language_info": {
      "name": "python"
    }
  },
  "cells": [
    {
      "cell_type": "markdown",
      "source": [
        "## 08 : Variables\n",
        "\n",
        "> Add blockquote\n",
        "\n"
      ],
      "metadata": {
        "id": "1nHjHWQ0waMK"
      }
    },
    {
      "cell_type": "code",
      "execution_count": 1,
      "metadata": {
        "id": "vf3ZPhm-wOP2"
      },
      "outputs": [],
      "source": [
        "age = 28 # Assign the value 28 to the variable named age"
      ]
    },
    {
      "cell_type": "code",
      "source": [
        "print(age) # Display the value of the age variable"
      ],
      "metadata": {
        "colab": {
          "base_uri": "https://localhost:8080/"
        },
        "id": "V5y-SXOyw_lV",
        "outputId": "3413fb41-d04f-4023-a9f2-90c9ede4c72e"
      },
      "execution_count": 3,
      "outputs": [
        {
          "output_type": "stream",
          "name": "stdout",
          "text": [
            "28\n"
          ]
        }
      ]
    },
    {
      "cell_type": "code",
      "source": [],
      "metadata": {
        "id": "FPYNAvM9xZxU"
      },
      "execution_count": null,
      "outputs": []
    }
  ]
}